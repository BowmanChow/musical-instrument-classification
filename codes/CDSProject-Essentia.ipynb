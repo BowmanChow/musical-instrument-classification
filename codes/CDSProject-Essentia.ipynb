{
 "cells": [
  {
   "cell_type": "markdown",
   "metadata": {},
   "source": [
    "# Predominant Music Instrument Classification based on Spectral Features\n",
    "\n",
    "\n",
    "We used IRMAS (Instrument recognition in Musical Audio Signals) dataset for our project. This data is polyphonic, so that  a robust classifier could be built.  Our dataset consists of .wav files of 3 seconds duration with 3,846 samples of  6 music instruments running into about three hours, giving sufficient data for training and testing purposes as well. In addition, the data consists of multiple genres including country folk, classical, pop-rock and latin soul.\n",
    "\n",
    "In this notebook, we used Essentia, an open-source C++ based distribution package available under Python environment for feature extraction. This library computes spectral energy associated with mel bands and their MFCCs given an audio sample. We trained SVM Classifier with 10-fold Cross validation and plotted confusion matrix based on our results."
   ]
  },
  {
   "cell_type": "code",
   "execution_count": 33,
   "metadata": {},
   "outputs": [],
   "source": [
    "#pip install essentia"
   ]
  },
  {
   "cell_type": "code",
   "execution_count": 34,
   "metadata": {},
   "outputs": [],
   "source": [
    "#Importing all relevant Libraries\n",
    "\n",
    "import essentia\n",
    "import pandas as pd\n",
    "import numpy as np\n",
    "import IPython\n",
    "import os, fnmatch\n",
    "\n",
    "import essentia.standard\n",
    "import essentia.streaming\n",
    "import os, fnmatch\n",
    "import itertools\n",
    "\n",
    "# Visualization\n",
    "import seaborn\n",
    "import matplotlib.pyplot as plt\n",
    "from IPython.core.display import HTML, display\n",
    "# scikit learn dependcies\n",
    "from sklearn.preprocessing import LabelEncoder\n",
    "from sklearn.preprocessing import StandardScaler\n",
    "from sklearn.model_selection import StratifiedShuffleSplit\n",
    "from sklearn.metrics import recall_score, precision_score, accuracy_score\n",
    "from sklearn.metrics import confusion_matrix, f1_score, classification_report\n",
    "from sklearn.svm import SVC\n",
    "from sklearn import tree\n",
    "from IPython.display import set_matplotlib_formats\n",
    "set_matplotlib_formats('png', 'pdf')\n",
    "\n",
    "\n",
    "# Audio Path\n",
    "path='dataset/IRMAS-TrainingData/nov-fourteen/'"
   ]
  },
  {
   "cell_type": "code",
   "execution_count": 35,
   "metadata": {},
   "outputs": [
    {
     "name": "stdout",
     "output_type": "stream",
     "text": [
      "found 3846 audio files in dataset/IRMAS-TrainingData/nov-fourteen/\n"
     ]
    }
   ],
   "source": [
    "#Total Audio Files in the directory\n",
    "files = []\n",
    "for root, dirnames, filenames in os.walk(path):\n",
    "    for filename in fnmatch.filter(filenames, '*.wav'):\n",
    "        files.append(os.path.join(root, filename))\n",
    "print(\"found %d audio files in %s\"%(len(files),path))"
   ]
  },
  {
   "cell_type": "code",
   "execution_count": 36,
   "metadata": {},
   "outputs": [],
   "source": [
    "labels =[]\n",
    "classes=['flu','pia','tru','gac','org','voi']\n",
    "color_dict={'flu':'blue', 'pia':'red', 'tru':'green', 'gac':'black','org': 'yellow', 'voi':'white'}\n",
    "color_list=[]\n",
    "for filename in files:\n",
    "    for name in classes:\n",
    "        if fnmatch.fnmatchcase(filename, '*'+name+'*'):\n",
    "            labels.append(name)\n",
    "            color_list.append(color_dict[name])\n",
    "            break\n",
    "    else:\n",
    "        labels.append('other')"
   ]
  },
  {
   "cell_type": "code",
   "execution_count": 37,
   "metadata": {},
   "outputs": [],
   "source": [
    "#Windowing procedure is implemented in Essentia \n",
    "#It analyzes the frequency content of an audio spectrum by creating short sound segments of few milli-seconds for longer signal\n",
    "#By default, we used Hann smoothing window\n",
    "\n",
    "from essentia.standard import *\n",
    "\n",
    "w = Windowing(type = 'hann')\n",
    "spectrum = Spectrum()  # FFT() would return the complex FFT, here we just want the magnitude spectrum\n",
    "mfcc = MFCC()"
   ]
  },
  {
   "cell_type": "code",
   "execution_count": 38,
   "metadata": {},
   "outputs": [
    {
     "name": "stdout",
     "output_type": "stream",
     "text": [
      "6 classes: flu, gac, org, pia, tru, voi\n"
     ]
    }
   ],
   "source": [
    "# Label Encoder for 6 Instrument classes\n",
    "labelencoder = LabelEncoder()\n",
    "labelencoder.fit(labels)\n",
    "print(len(labelencoder.classes_), \"classes:\", \", \".join(list(labelencoder.classes_)))\n",
    "classes_num = labelencoder.transform(labels)"
   ]
  },
  {
   "cell_type": "code",
   "execution_count": null,
   "metadata": {},
   "outputs": [],
   "source": [
    "#loader\n",
    "# Load files and feature vectors\n",
    "\n",
    "feature_vectors = pd.DataFrame()\n",
    "\n",
    "for i,f in enumerate(files):\n",
    "    print (\"getting %d of total %d files = %s\"%(i+1, len(files), f))\n",
    "    try:\n",
    "        t = essentia.standard.MonoLoader(filename = f)\n",
    "        y = t()\n",
    "        y/=y.max() #Normalize\n",
    "        if len(y) < 2:\n",
    "            print(\"Error loading %s\" % f)\n",
    "            continue\n",
    "        \n",
    "        mfccs = []\n",
    "        melbands = []\n",
    "        frameSize = 1024\n",
    "        hopSize = 512\n",
    "\n",
    "        for fstart in range(0, len(y)-frameSize, hopSize):\n",
    "            frame = y[fstart:fstart+frameSize]\n",
    "            mfcc_bands, mfcc_coeffs = mfcc(spectrum(w(frame)))\n",
    "            mfccs.append(mfcc_coeffs)\n",
    "        df = pd.DataFrame(mfccs)\n",
    "        #Taking average of all values (0 to 256)\n",
    "        new_df = pd.DataFrame(df.mean(axis = 0)).T\n",
    "        new_df['instrument'] = labels[i+1]\n",
    "        feature_vectors=feature_vectors.append(new_df, ignore_index=True)\n",
    "        #Add break on i if necessary (during iterations)\n",
    "    except Exception as e:\n",
    "        print(\"Error loading %s. Error: %s\" % (f,e))\n",
    "\n",
    "print(\"Calculated %d feature vectors\"%len(feature_vectors))\n",
    "    \n",
    "# print(feature_vectors)"
   ]
  },
  {
   "cell_type": "code",
   "execution_count": 40,
   "metadata": {},
   "outputs": [
    {
     "name": "stdout",
     "output_type": "stream",
     "text": [
      "Scaled Feature vectors shape: (3845, 13)\n"
     ]
    }
   ],
   "source": [
    "#Scaling features using Standard Scaler\n",
    "#Operations are done only on List\n",
    "scaler = StandardScaler()\n",
    "scaled_feature_vectors = scaler.fit_transform(pd.DataFrame(feature_vectors.loc[:, feature_vectors.columns != 'instrument']))\n",
    "print(\"Scaled Feature vectors shape:\",scaled_feature_vectors.shape)"
   ]
  },
  {
   "cell_type": "code",
   "execution_count": 41,
   "metadata": {},
   "outputs": [
    {
     "name": "stdout",
     "output_type": "stream",
     "text": [
      "[[-0.71418957  0.46260116 -0.63368777 ...  1.42038443  0.03005677\n",
      "  -2.08507375]\n",
      " [-0.59754952  0.812213   -0.87790081 ... -0.82477343 -1.15354592\n",
      "  -0.67547468]\n",
      " [-0.39316097  0.45744448 -0.8573588  ...  1.90472899  0.0213352\n",
      "  -2.81894999]\n",
      " ...\n",
      " [ 0.55110024 -0.13087849  0.04588603 ...  0.95784067  1.38208047\n",
      "  -0.03122564]\n",
      " [-1.58857567  1.86187072  1.55113236 ... -1.04412987  0.04546572\n",
      "   0.58787222]\n",
      " [-0.47311193  1.4243409   0.0526503  ... -1.87433396 -0.23101698\n",
      "  -0.96908015]]\n"
     ]
    }
   ],
   "source": [
    "print(scaled_feature_vectors)"
   ]
  },
  {
   "cell_type": "code",
   "execution_count": 42,
   "metadata": {},
   "outputs": [
    {
     "name": "stdout",
     "output_type": "stream",
     "text": [
      "Final Dataset shape: (3845, 14)\n"
     ]
    }
   ],
   "source": [
    "#Appending the obtained scaled features with the class labels ('instrument')\n",
    "x = pd.DataFrame(scaled_feature_vectors)\n",
    "final_df = pd.concat([x,feature_vectors.instrument], axis = 1, ignore_index = True)\n",
    "print(\"Final Dataset shape:\",final_df.shape)"
   ]
  },
  {
   "cell_type": "code",
   "execution_count": 43,
   "metadata": {},
   "outputs": [
    {
     "name": "stdout",
     "output_type": "stream",
     "text": [
      "0     float64\n",
      "1     float64\n",
      "2     float64\n",
      "3     float64\n",
      "4     float64\n",
      "5     float64\n",
      "6     float64\n",
      "7     float64\n",
      "8     float64\n",
      "9     float64\n",
      "10    float64\n",
      "11    float64\n",
      "12    float64\n",
      "13     object\n",
      "dtype: object\n"
     ]
    }
   ],
   "source": [
    "#Check\n",
    "#final_df.to_csv(\"check_df.csv\", index = False)\n",
    "print(final_df.dtypes)"
   ]
  },
  {
   "cell_type": "markdown",
   "metadata": {},
   "source": [
    "# Train-Test Split using StratifiedShuffleSplit"
   ]
  },
  {
   "cell_type": "code",
   "execution_count": 44,
   "metadata": {},
   "outputs": [],
   "source": [
    "# Create Training and Testing Sets\n",
    "testset_size = 0.25\n",
    "\n",
    "X = final_df.iloc[:,:-1].values\n",
    "Y = final_df.iloc[:,-1].values\n",
    "Y_labels = labelencoder.transform(Y)\n",
    "\n",
    "# Create Train and Test Set\n",
    "splitter = StratifiedShuffleSplit(n_splits=10, test_size=testset_size, random_state=0)\n",
    "splits = splitter.split(X, Y_labels)\n",
    "for train_index, test_index in splits:\n",
    "    train_set = X[train_index]\n",
    "    test_set = X[test_index]\n",
    "    train_classes = Y_labels[train_index]\n",
    "    test_classes = Y_labels[test_index]"
   ]
  },
  {
   "cell_type": "code",
   "execution_count": 45,
   "metadata": {},
   "outputs": [
    {
     "name": "stdout",
     "output_type": "stream",
     "text": [
      "train_set shape: (2883, 13)\n",
      "test_set shape: (962, 13)\n",
      "train_classes shape: (2883,)\n",
      "test_classes shape: (962,)\n"
     ]
    }
   ],
   "source": [
    "# Check Set Shapes\n",
    "print(\"train_set shape:\",train_set.shape)\n",
    "print(\"test_set shape:\",test_set.shape)\n",
    "print(\"train_classes shape:\",train_classes.shape)\n",
    "print(\"test_classes shape:\",test_classes.shape)"
   ]
  },
  {
   "cell_type": "code",
   "execution_count": 46,
   "metadata": {},
   "outputs": [
    {
     "name": "stdout",
     "output_type": "stream",
     "text": [
      "[337 478 511 541 433 583]\n",
      "[113 159 171 180 144 195]\n",
      "[0.11689213 0.16579951 0.17724592 0.18765175 0.15019077 0.20221991]\n",
      "[0.11746362 0.16528067 0.17775468 0.18711019 0.14968815 0.2027027 ]\n"
     ]
    }
   ],
   "source": [
    "#Checking class ratio for each instrument in train and test\n",
    "print(np.bincount(train_classes))\n",
    "print(np.bincount(test_classes))\n",
    "\n",
    "print(np.bincount(train_classes)/sum(np.bincount(train_classes)))\n",
    "print(np.bincount(test_classes)/sum(np.bincount(test_classes)))"
   ]
  },
  {
   "cell_type": "markdown",
   "metadata": {},
   "source": [
    "# SVM Classifier & Cross-Validation (10-Fold) using GridSearch"
   ]
  },
  {
   "cell_type": "code",
   "execution_count": 47,
   "metadata": {},
   "outputs": [],
   "source": [
    "from sklearn import svm\n",
    "from sklearn.model_selection import GridSearchCV\n",
    "\n",
    "\n",
    "def svc_param_selection(X, Y_labels, nfolds):\n",
    "    Cs = [0.001, 0.01, 0.1, 1, 10]\n",
    "    gammas = [0.001, 0.01, 0.1, 1]\n",
    "    param_grid = {'C': Cs, 'gamma' : gammas}\n",
    "    grid_search = GridSearchCV(svm.SVC(kernel='rbf'), param_grid, cv=nfolds)\n",
    "    grid_search.fit(X, Y_labels)\n",
    "    grid_search.best_params_\n",
    "    return grid_search.best_params_"
   ]
  },
  {
   "cell_type": "code",
   "execution_count": 48,
   "metadata": {},
   "outputs": [
    {
     "name": "stderr",
     "output_type": "stream",
     "text": [
      "/glob/intel-python/versions/2019u2/intelpython3/lib/python3.6/site-packages/sklearn/model_selection/_search.py:841: DeprecationWarning: The default of the `iid` parameter will change from True to False in version 0.22 and will be removed in 0.24. This will change numeric results when test-set sizes are unequal.\n",
      "  DeprecationWarning)\n"
     ]
    },
    {
     "data": {
      "text/plain": [
       "{'C': 1, 'gamma': 0.1}"
      ]
     },
     "execution_count": 48,
     "metadata": {},
     "output_type": "execute_result"
    }
   ],
   "source": [
    "svc_param_selection(X, Y_labels, 10)"
   ]
  },
  {
   "cell_type": "code",
   "execution_count": 49,
   "metadata": {},
   "outputs": [],
   "source": [
    "# SVM Classifier\n",
    "svclassifier = SVC(kernel='rbf', C = 1, gamma=0.1)"
   ]
  },
  {
   "cell_type": "code",
   "execution_count": 50,
   "metadata": {},
   "outputs": [],
   "source": [
    "#SVM\n",
    "svclassifier.fit(train_set, train_classes);"
   ]
  },
  {
   "cell_type": "code",
   "execution_count": 51,
   "metadata": {},
   "outputs": [],
   "source": [
    "# Predict using the test Set\n",
    "predicted_labels = svclassifier.predict(train_set)"
   ]
  },
  {
   "cell_type": "code",
   "execution_count": 52,
   "metadata": {},
   "outputs": [
    {
     "name": "stdout",
     "output_type": "stream",
     "text": [
      "0.7533818938605619\n"
     ]
    }
   ],
   "source": [
    "#Train Accuracy\n",
    "print(accuracy_score(train_classes, predicted_labels))"
   ]
  },
  {
   "cell_type": "code",
   "execution_count": 53,
   "metadata": {},
   "outputs": [],
   "source": [
    "# Predict using the test Set\n",
    "predicted_labels = svclassifier.predict(test_set)"
   ]
  },
  {
   "cell_type": "code",
   "execution_count": 54,
   "metadata": {},
   "outputs": [
    {
     "name": "stdout",
     "output_type": "stream",
     "text": [
      "0.6496881496881497\n"
     ]
    }
   ],
   "source": [
    "#Test Accuracy\n",
    "print(accuracy_score(test_classes, predicted_labels))"
   ]
  },
  {
   "cell_type": "markdown",
   "metadata": {},
   "source": [
    "# MODEL EVALUATION METRICS"
   ]
  },
  {
   "cell_type": "code",
   "execution_count": 55,
   "metadata": {},
   "outputs": [
    {
     "name": "stdout",
     "output_type": "stream",
     "text": [
      "Recall:  [0.44247788 0.67295597 0.67836257 0.65       0.65972222 0.71794872]\n",
      "Precision:  [0.64102564 0.62573099 0.60416667 0.72670807 0.81196581 0.57613169]\n",
      "F1-Score:  [0.52356021 0.64848485 0.63911846 0.68621701 0.72796935 0.63926941]\n",
      "Accuracy: 0.65  , 625\n",
      "Number of samples: 962\n"
     ]
    }
   ],
   "source": [
    "pd.set_option('display.max_columns', None)\n",
    "\n",
    "print(\"Recall: \", recall_score(test_classes, predicted_labels,average=None))\n",
    "print(\"Precision: \", precision_score(test_classes, predicted_labels,average=None))\n",
    "print(\"F1-Score: \", f1_score(test_classes, predicted_labels, average=None))\n",
    "print(\"Accuracy: %.2f  ,\" % accuracy_score(test_classes, predicted_labels,normalize=True), accuracy_score(test_classes, predicted_labels,normalize=False) )\n",
    "\n",
    "print(\"Number of samples:\",test_classes.shape[0])"
   ]
  },
  {
   "cell_type": "code",
   "execution_count": 56,
   "metadata": {},
   "outputs": [],
   "source": [
    "#Confusion Matrix\n",
    "cnf_matrix = confusion_matrix(test_classes, predicted_labels)\n",
    "np.set_printoptions(precision=2)"
   ]
  },
  {
   "cell_type": "code",
   "execution_count": 57,
   "metadata": {},
   "outputs": [],
   "source": [
    "# Function to Plot Confusion Matrix (from scikit learn website)\n",
    "def plot_confusion_matrix(cm, classes,normalize=False,title='Confusion matrix',cmap=plt.cm.Reds):\n",
    "    print(cm)\n",
    "\n",
    "    plt.imshow(cm, interpolation='nearest', cmap=cmap)\n",
    "    plt.title(title)\n",
    "    plt.colorbar()\n",
    "    tick_marks = np.arange(len(classes))\n",
    "    plt.xticks(tick_marks, classes, rotation=45)\n",
    "    plt.yticks(tick_marks, classes)\n",
    "\n",
    "    fmt = '.2f' if normalize else 'd'\n",
    "    thresh = cm.max() / 2.\n",
    "    for i, j in itertools.product(range(cm.shape[0]), range(cm.shape[1])):\n",
    "        plt.text(j, i, format(cm[i, j], fmt),\n",
    "                 horizontalalignment=\"center\",\n",
    "                 color=\"white\" if cm[i, j] > thresh else \"black\")\n",
    "\n",
    "    plt.tight_layout()\n",
    "    plt.ylabel('True label')\n",
    "    plt.xlabel('Predicted label')"
   ]
  },
  {
   "cell_type": "markdown",
   "metadata": {},
   "source": [
    "# CONFUSION MATRIX & RESULTS"
   ]
  },
  {
   "cell_type": "code",
   "execution_count": 58,
   "metadata": {},
   "outputs": [
    {
     "name": "stdout",
     "output_type": "stream",
     "text": [
      "[[ 50   9  17  14   6  17]\n",
      " [  4 107  13  10   2  23]\n",
      " [  5  12 116   4   5  29]\n",
      " [  9  15  14 117   7  18]\n",
      " [  4   3  14  12  95  16]\n",
      " [  6  25  18   4   2 140]]\n"
     ]
    },
    {
     "data": {
      "application/pdf": "[encoded data removed]",
      "image/png": "[encoded data removed]",
      "text/plain": [
       "<Figure size 1296x936 with 2 Axes>"
      ]
     },
     "metadata": {},
     "output_type": "display_data"
    }
   ],
   "source": [
    "# Plotting non-normalized confusion matrix\n",
    "%matplotlib inline\n",
    "plt.figure(figsize=(18,13))\n",
    "plot_confusion_matrix(cnf_matrix, classes=labelencoder.classes_,\n",
    "                      title='Confusion matrix, without normalization')\n",
    "plt.savefig(\"Charts.pdf\")"
   ]
  },
  {
   "cell_type": "code",
   "execution_count": 59,
   "metadata": {},
   "outputs": [],
   "source": [
    "# Finding wrongly predicted samples\n",
    "wrong_predictions = [i for i, (e1, e2) in enumerate(zip(predicted_labels,test_classes)) if e1 != e2]"
   ]
  },
  {
   "cell_type": "code",
   "execution_count": 77,
   "metadata": {},
   "outputs": [
    {
     "name": "stdout",
     "output_type": "stream",
     "text": [
      "True labels\n",
      "['tru' 'pia' 'voi' 'flu' 'pia' 'pia' 'voi' 'org' 'flu' 'flu' 'pia' 'flu'\n",
      " 'flu' 'gac' 'tru' 'pia' 'flu' 'tru' 'pia' 'tru' 'tru' 'org' 'pia' 'voi'\n",
      " 'org' 'pia' 'tru' 'pia' 'org' 'flu' 'org' 'gac' 'gac' 'voi' 'gac' 'pia'\n",
      " 'org' 'org' 'voi' 'flu' 'org' 'voi' 'gac' 'voi' 'gac' 'voi' 'org' 'pia'\n",
      " 'org' 'voi' 'voi' 'org' 'flu' 'flu' 'tru' 'voi' 'gac' 'pia' 'org' 'flu'\n",
      " 'tru' 'gac' 'gac' 'flu' 'tru' 'tru' 'org' 'flu' 'org' 'flu' 'flu' 'gac'\n",
      " 'gac' 'voi' 'gac' 'gac' 'pia' 'pia' 'flu' 'pia' 'tru' 'org' 'flu' 'pia'\n",
      " 'voi' 'org' 'voi' 'pia' 'pia' 'pia' 'org' 'voi' 'org' 'gac' 'gac' 'tru'\n",
      " 'org' 'gac' 'org' 'gac' 'voi' 'gac' 'flu' 'pia' 'flu' 'org' 'flu' 'flu'\n",
      " 'gac' 'voi' 'flu' 'pia' 'pia' 'voi' 'pia' 'flu' 'flu' 'pia' 'tru' 'voi'\n",
      " 'flu' 'tru' 'org' 'tru' 'pia' 'org' 'pia' 'gac' 'flu' 'org' 'flu' 'voi'\n",
      " 'org' 'pia' 'flu' 'org' 'tru' 'pia' 'voi' 'flu' 'voi' 'flu' 'pia' 'gac'\n",
      " 'pia' 'voi' 'voi' 'org' 'tru' 'voi' 'gac' 'voi' 'pia' 'tru' 'voi' 'flu'\n",
      " 'gac' 'voi' 'org' 'flu' 'org' 'gac' 'tru' 'gac' 'flu' 'pia' 'voi' 'tru'\n",
      " 'pia' 'org' 'flu' 'pia' 'org' 'pia' 'gac' 'pia' 'voi' 'flu' 'voi' 'flu'\n",
      " 'pia' 'voi' 'pia' 'flu' 'tru' 'pia' 'org' 'gac' 'org' 'voi' 'org' 'flu'\n",
      " 'voi' 'gac' 'voi' 'gac' 'tru' 'voi' 'voi' 'org' 'pia' 'flu' 'gac' 'gac'\n",
      " 'org' 'flu' 'org' 'gac' 'pia' 'org' 'org' 'tru' 'pia' 'org' 'voi' 'flu'\n",
      " 'flu' 'pia' 'flu' 'pia' 'org' 'flu' 'voi' 'tru' 'gac' 'gac' 'flu' 'voi'\n",
      " 'tru' 'tru' 'flu' 'org' 'pia' 'pia' 'tru' 'tru' 'gac' 'voi' 'org' 'flu'\n",
      " 'tru' 'flu' 'pia' 'org' 'voi' 'voi' 'flu' 'gac' 'org' 'org' 'flu' 'gac'\n",
      " 'voi' 'voi' 'pia' 'flu' 'voi' 'tru' 'gac' 'gac' 'org' 'tru' 'gac' 'pia'\n",
      " 'tru' 'flu' 'voi' 'tru' 'tru' 'org' 'gac' 'tru' 'pia' 'org' 'pia' 'tru'\n",
      " 'voi' 'tru' 'tru' 'org' 'tru' 'org' 'pia' 'pia' 'flu' 'gac' 'gac' 'pia'\n",
      " 'voi' 'voi' 'gac' 'gac' 'flu' 'gac' 'flu' 'pia' 'pia' 'gac' 'tru' 'voi'\n",
      " 'org' 'tru' 'flu' 'flu' 'tru' 'flu' 'tru' 'org' 'flu' 'pia' 'tru' 'gac'\n",
      " 'voi' 'tru' 'flu' 'pia' 'flu' 'gac' 'tru' 'gac' 'gac' 'voi' 'voi' 'tru'\n",
      " 'pia' 'org' 'flu' 'tru' 'gac' 'flu' 'pia' 'voi' 'pia' 'pia' 'pia' 'org'\n",
      " 'tru']\n",
      "Predicted labels\n",
      "['org' 'gac' 'gac' 'pia' 'org' 'tru' 'gac' 'voi' 'voi' 'org' 'voi' 'pia'\n",
      " 'voi' 'voi' 'org' 'org' 'pia' 'org' 'voi' 'org' 'voi' 'voi' 'gac' 'gac'\n",
      " 'gac' 'gac' 'flu' 'gac' 'flu' 'gac' 'voi' 'pia' 'voi' 'org' 'pia' 'org'\n",
      " 'voi' 'gac' 'gac' 'org' 'voi' 'org' 'org' 'flu' 'org' 'flu' 'voi' 'voi'\n",
      " 'gac' 'org' 'tru' 'gac' 'pia' 'org' 'voi' 'flu' 'org' 'flu' 'voi' 'tru'\n",
      " 'voi' 'pia' 'org' 'tru' 'org' 'flu' 'voi' 'gac' 'voi' 'org' 'voi' 'voi'\n",
      " 'voi' 'tru' 'voi' 'voi' 'tru' 'gac' 'tru' 'gac' 'voi' 'voi' 'pia' 'gac'\n",
      " 'gac' 'voi' 'gac' 'voi' 'voi' 'voi' 'flu' 'gac' 'tru' 'voi' 'voi' 'voi'\n",
      " 'pia' 'pia' 'gac' 'org' 'org' 'flu' 'gac' 'org' 'org' 'gac' 'org' 'gac'\n",
      " 'org' 'gac' 'org' 'org' 'voi' 'gac' 'tru' 'voi' 'gac' 'flu' 'org' 'gac'\n",
      " 'voi' 'pia' 'gac' 'pia' 'flu' 'voi' 'org' 'org' 'voi' 'pia' 'pia' 'gac'\n",
      " 'pia' 'voi' 'pia' 'tru' 'org' 'tru' 'flu' 'voi' 'gac' 'org' 'gac' 'pia'\n",
      " 'tru' 'org' 'org' 'voi' 'pia' 'flu' 'voi' 'pia' 'gac' 'voi' 'gac' 'gac'\n",
      " 'voi' 'pia' 'gac' 'org' 'voi' 'flu' 'pia' 'voi' 'voi' 'org' 'org' 'pia'\n",
      " 'flu' 'voi' 'tru' 'org' 'gac' 'gac' 'org' 'tru' 'org' 'pia' 'gac' 'pia'\n",
      " 'voi' 'gac' 'org' 'pia' 'pia' 'voi' 'voi' 'org' 'voi' 'gac' 'tru' 'pia'\n",
      " 'gac' 'org' 'org' 'voi' 'flu' 'gac' 'gac' 'gac' 'flu' 'org' 'voi' 'voi'\n",
      " 'voi' 'voi' 'voi' 'voi' 'voi' 'voi' 'voi' 'voi' 'org' 'voi' 'org' 'voi'\n",
      " 'pia' 'org' 'voi' 'gac' 'voi' 'pia' 'gac' 'pia' 'voi' 'pia' 'org' 'org'\n",
      " 'org' 'org' 'voi' 'gac' 'org' 'voi' 'org' 'org' 'pia' 'org' 'voi' 'org'\n",
      " 'org' 'org' 'voi' 'tru' 'pia' 'org' 'org' 'voi' 'gac' 'voi' 'org' 'pia'\n",
      " 'gac' 'org' 'voi' 'voi' 'gac' 'org' 'flu' 'tru' 'voi' 'pia' 'flu' 'voi'\n",
      " 'flu' 'gac' 'pia' 'pia' 'voi' 'tru' 'pia' 'gac' 'flu' 'flu' 'voi' 'voi'\n",
      " 'org' 'voi' 'gac' 'flu' 'voi' 'flu' 'voi' 'flu' 'pia' 'org' 'tru' 'tru'\n",
      " 'gac' 'gac' 'pia' 'voi' 'tru' 'org' 'voi' 'gac' 'flu' 'org' 'pia' 'org'\n",
      " 'voi' 'voi' 'tru' 'voi' 'gac' 'gac' 'pia' 'pia' 'org' 'org' 'voi' 'voi'\n",
      " 'gac' 'voi' 'gac' 'gac' 'voi' 'voi' 'voi' 'voi' 'voi' 'flu' 'org' 'voi'\n",
      " 'flu' 'voi' 'org' 'org' 'voi' 'voi' 'org' 'org' 'gac' 'voi' 'gac' 'voi'\n",
      " 'pia']\n"
     ]
    }
   ],
   "source": [
    "# Find wrong predicted audio files\n",
    "print(\"True labels\")\n",
    "print(np.array(labels)[test_index[wrong_predictions]])\n",
    "print(\"Predicted labels\")\n",
    "print(labelencoder.inverse_transform(predicted_labels[wrong_predictions]))"
   ]
  }
 ],
 "metadata": {
  "kernelspec": {
   "display_name": "Python 3 (Intel, 2019 update 2)",
   "language": "python",
   "name": "c009-intel_distribution_of_python_3_2019u2"
  },
  "language_info": {
   "codemirror_mode": {
    "name": "ipython",
    "version": 3
   },
   "file_extension": ".py",
   "mimetype": "text/x-python",
   "name": "python",
   "nbconvert_exporter": "python",
   "pygments_lexer": "ipython3",
   "version": "3.6.8"
  },
  "latex_envs": {
   "LaTeX_envs_menu_present": true,
   "autoclose": false,
   "autocomplete": true,
   "bibliofile": "biblio.bib",
   "cite_by": "apalike",
   "current_citInitial": 1,
   "eqLabelWithNumbers": true,
   "eqNumInitial": 1,
   "hotkeys": {
    "equation": "Ctrl-E",
    "itemize": "Ctrl-I"
   },
   "labels_anchors": false,
   "latex_user_defs": false,
   "report_style_numbering": false,
   "user_envs_cfg": false
  }
 },
 "nbformat": 4,
 "nbformat_minor": 2
}
